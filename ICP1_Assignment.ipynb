{
  "cells": [
    {
      "cell_type": "markdown",
      "source": [
        "Q1) Write a program that takes two strings from the user: first_name, last_name. Pass these variables to\n",
        "fullname function that should return the (full name)."
      ],
      "metadata": {
        "id": "HKRMLYOv5Hh-"
      }
    },
    {
      "source": [
        "#Function that takes first name and last name and returns full name\n",
        "def full_name(first_name, last_name):\n",
        "\n",
        "  #Combined using string concatenation operator\n",
        "  return first_name + \" \" + last_name # Indent this line\n",
        "\n",
        "#Function that takes a string and returns string with alternative characters\n",
        "def string_alternative(original_string):\n",
        "\n",
        "  #Alternate characters are taken using slicing operator with step 2\n",
        "  return original_string[::2]\n",
        "\n",
        "#Taking first name input\n",
        "First_name = input(\"Enter your first name: \")\n",
        "#Taking last name input\n",
        "Last_name = input(\"Enter your last name: \")\n",
        "#Calling funtion and printing full name\n",
        "print(full_name(First_name, Last_name))\n",
        "\n",
        "#Inputting a string from the user\n",
        "Original_string = input(\"Enter the string: \")\n",
        "#Printing alternate characters in the string\n",
        "print(string_alternative(Original_string))"
      ],
      "cell_type": "code",
      "metadata": {
        "id": "3uvAHFST55sV",
        "outputId": "d94b450b-7435-4afb-8e6b-b86bb9805867",
        "colab": {
          "base_uri": "https://localhost:8080/"
        }
      },
      "execution_count": 1,
      "outputs": [
        {
          "output_type": "stream",
          "name": "stdout",
          "text": [
            "Enter your first name: poojitha\n",
            "Enter your last name: yarabolu\n",
            "poojitha yarabolu\n",
            "Enter the string: happy bday\n",
            "hpyba\n"
          ]
        }
      ]
    },
    {
      "cell_type": "markdown",
      "source": [
        "Q2) Write a python program to find the wordcount in a file (input.txt) for each line and then print the output.\n",
        "o Finally store the output in output.txt file."
      ],
      "metadata": {
        "id": "Wmx4XUxj6Kns"
      }
    },
    {
      "cell_type": "code",
      "source": [
        "#Opening input.txt file and reading the contents using a variable\n",
        "with open('input.txt', 'r') as reader:\n",
        "  contents = []\n",
        "\n",
        "  #Getting each line in the file and splitting them into words and adding them to the list\n",
        "  for line in reader.readlines():\n",
        "    contents += list(map(str.strip, line.split(\" \")))\n",
        "\n",
        "\n",
        "#Defining empty dictionary to store the word count\n",
        "word_count = {}\n",
        "for i in contents:\n",
        "\n",
        "  #Checking if the word already exists in the dictionary\n",
        "  #If it is present, then it's count is incremented\n",
        "  if i in word_count.keys():\n",
        "    word_count[i] += 1\n",
        "\n",
        "  #Else new key is created and it's value is set to 1 indiacting it's first occurance in the file\n",
        "  else:\n",
        "    word_count[i] = 1\n",
        "\n",
        "#New file is created and writing the contents in the dictionary to this file\n",
        "with open('output.txt', 'w') as writer:\n",
        "\n",
        "    #Accessing each word and it's value and writing it in the file\n",
        "    for word, value in word_count.items():\n",
        "        writer.write(word + \": \" + str(value) + \"\\n\")\n",
        "\n",
        "    #Closing this file automatically downloads it to the system\n",
        "    writer.close()"
      ],
      "metadata": {
        "id": "_iS1mTuG_8iP"
      },
      "execution_count": null,
      "outputs": []
    },
    {
      "cell_type": "markdown",
      "source": [
        "Q3) Python program which reads heights (inches.) of customers into a list and convert these heights to centimeters in a separate list using:\n",
        "\n",
        "Nested Interactive loop. List comprehensions"
      ],
      "metadata": {
        "id": "Rkw8e9DrAQHq"
      }
    },
    {
      "cell_type": "code",
      "source": [
        "#Inputting the heights in centimeters into the list\n",
        "heights_cm = list(map(int, input(\"Enter heights in centimeters: \").split()))\n",
        "\n",
        "#Using loop the heights in centimeters are converted into inches\n",
        "heights_in = []\n",
        "for i in heights_cm:\n",
        "  heights_in.append(2.54*i)\n",
        "\n",
        "#The converted heights are printed\n",
        "print(\"Heights in inches using loop: \", heights_in)\n",
        "\n",
        "\n",
        "#Using list comprehension, the heights in centimeters are converted into inches\n",
        "heights_inc = [2.54*inches for inches in heights_cm]\n",
        "print(\"Heights in inches using list comprehension: \", heights_inc)"
      ],
      "metadata": {
        "id": "DJV_nYrjAqE0",
        "outputId": "6fe89441-dbe0-4ba3-93fe-dc9276c30934",
        "colab": {
          "base_uri": "https://localhost:8080/"
        }
      },
      "execution_count": null,
      "outputs": [
        {
          "output_type": "stream",
          "name": "stdout",
          "text": [
            "Enter heights in centimeters: 150 155  145  148\n",
            "Heights in inches using loop:  [381.0, 393.7, 368.3, 375.92]\n",
            "Heights in inches using list comprehension:  [381.0, 393.7, 368.3, 375.92]\n"
          ]
        }
      ]
    }
  ],
  "metadata": {
    "colab": {
      "provenance": []
    },
    "kernelspec": {
      "display_name": "Python 3",
      "name": "python3"
    }
  },
  "nbformat": 4,
  "nbformat_minor": 0
}